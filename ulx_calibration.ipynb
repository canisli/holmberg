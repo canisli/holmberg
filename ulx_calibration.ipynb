{
 "cells": [
  {
   "cell_type": "code",
   "execution_count": 1,
   "metadata": {},
   "outputs": [],
   "source": [
    "import os\n",
    "import time\n",
    "import glob\n",
    "import math\n",
    "import numpy as np\n",
    "import matplotlib.pyplot as plt\n",
    "from icecream import ic\n",
    "from astropy.io import fits\n",
    "\n",
    "from astro import astroutils\n",
    "from astro import mphot\n",
    "from astro import mimage\n",
    "from utils import mutils\n",
    "from utils import mlogging\n",
    "\n",
    "\n",
    "log = mlogging.getLogger( name='ulx_processing', console=True, filename='ccalibration_log.txt')\n",
    "\n",
    "%load_ext autoreload\n",
    "%autoreload 2\n",
    "%matplotlib ipympl"
   ]
  },
  {
   "cell_type": "markdown",
   "metadata": {},
   "source": [
    "Calibration"
   ]
  },
  {
   "cell_type": "code",
   "execution_count": 22,
   "metadata": {},
   "outputs": [
    {
     "name": "stderr",
     "output_type": "stream",
     "text": [
      "19:07:05 ccalibration INFO   : Found existing master calibration images\n",
      "19:07:05 ccalibration INFO   : Found 63 images matching pattern g??d???.[0-9][0-9][0-9]*\n",
      "19:07:05 ccalibration INFO   : Searching for science images\n",
      "19:07:05 ccalibration INFO   : Dome_Flat is not Holmberg II X-1 in/Users/canis/dev/holmberg/data/test/g21d018.001\n",
      "19:07:05 ccalibration INFO   : Dome_Flat is not Holmberg II X-1 in/Users/canis/dev/holmberg/data/test/g21d018.002\n",
      "19:07:06 ccalibration INFO   : Dome_Flat is not Holmberg II X-1 in/Users/canis/dev/holmberg/data/test/g21d018.003\n",
      "19:07:06 ccalibration INFO   : Dome_Flat is not Holmberg II X-1 in/Users/canis/dev/holmberg/data/test/g21d018.004\n",
      "19:07:06 ccalibration INFO   : Dome_Flat is not Holmberg II X-1 in/Users/canis/dev/holmberg/data/test/g21d018.005\n",
      "19:07:06 ccalibration INFO   : Dome_Flat is not Holmberg II X-1 in/Users/canis/dev/holmberg/data/test/g21d018.006\n",
      "19:07:06 ccalibration INFO   : Dome_Flat is not Holmberg II X-1 in/Users/canis/dev/holmberg/data/test/g21d018.007\n",
      "19:07:06 ccalibration INFO   : Dome_Flat is not Holmberg II X-1 in/Users/canis/dev/holmberg/data/test/g21d018.008\n",
      "19:07:06 ccalibration INFO   : Dome_Flat is not Holmberg II X-1 in/Users/canis/dev/holmberg/data/test/g21d018.009\n",
      "19:07:07 ccalibration INFO   : Dome_Flat is not Holmberg II X-1 in/Users/canis/dev/holmberg/data/test/g21d018.010\n",
      "19:07:07 ccalibration INFO   : BIAS is not Holmberg II X-1 in/Users/canis/dev/holmberg/data/test/g21d018.011\n",
      "19:07:07 ccalibration INFO   : BIAS is not Holmberg II X-1 in/Users/canis/dev/holmberg/data/test/g21d018.012\n",
      "19:07:07 ccalibration INFO   : BIAS is not Holmberg II X-1 in/Users/canis/dev/holmberg/data/test/g21d018.013\n",
      "19:07:07 ccalibration INFO   : BIAS is not Holmberg II X-1 in/Users/canis/dev/holmberg/data/test/g21d018.014\n",
      "19:07:07 ccalibration INFO   : BIAS is not Holmberg II X-1 in/Users/canis/dev/holmberg/data/test/g21d018.015\n",
      "19:07:07 ccalibration INFO   : BIAS is not Holmberg II X-1 in/Users/canis/dev/holmberg/data/test/g21d018.016\n",
      "19:07:07 ccalibration INFO   : BIAS is not Holmberg II X-1 in/Users/canis/dev/holmberg/data/test/g21d018.017\n",
      "19:07:07 ccalibration INFO   : BIAS is not Holmberg II X-1 in/Users/canis/dev/holmberg/data/test/g21d018.018\n",
      "19:07:08 ccalibration INFO   : BIAS is not Holmberg II X-1 in/Users/canis/dev/holmberg/data/test/g21d018.019\n",
      "19:07:08 ccalibration INFO   : BIAS is not Holmberg II X-1 in/Users/canis/dev/holmberg/data/test/g21d018.020\n",
      "19:07:11 ccalibration INFO   : BIAS is not Holmberg II X-1 in/Users/canis/dev/holmberg/data/test/g21d018.054\n",
      "19:07:11 ccalibration INFO   : BIAS is not Holmberg II X-1 in/Users/canis/dev/holmberg/data/test/g21d018.055\n",
      "19:07:11 ccalibration INFO   : BIAS is not Holmberg II X-1 in/Users/canis/dev/holmberg/data/test/g21d018.056\n",
      "19:07:11 ccalibration INFO   : BIAS is not Holmberg II X-1 in/Users/canis/dev/holmberg/data/test/g21d018.057\n",
      "19:07:11 ccalibration INFO   : BIAS is not Holmberg II X-1 in/Users/canis/dev/holmberg/data/test/g21d018.058\n",
      "19:07:11 ccalibration INFO   : BIAS is not Holmberg II X-1 in/Users/canis/dev/holmberg/data/test/g21d018.059\n",
      "19:07:12 ccalibration INFO   : BIAS is not Holmberg II X-1 in/Users/canis/dev/holmberg/data/test/g21d018.060\n",
      "19:07:12 ccalibration INFO   : BIAS is not Holmberg II X-1 in/Users/canis/dev/holmberg/data/test/g21d018.061\n",
      "19:07:12 ccalibration INFO   : BIAS is not Holmberg II X-1 in/Users/canis/dev/holmberg/data/test/g21d018.062\n",
      "19:07:12 ccalibration INFO   : BIAS is not Holmberg II X-1 in/Users/canis/dev/holmberg/data/test/g21d018.063\n",
      "19:07:12 ccalibration INFO   : Remaining: 33 science images\n",
      "19:07:12 ccalibration INFO   : Calibrating /Users/canis/dev/holmberg/data/test/g21d018.021\n",
      "19:07:12 ccalibration INFO   : Calibrating /Users/canis/dev/holmberg/data/test/g21d018.022\n",
      "19:07:12 ccalibration INFO   : Calibrating /Users/canis/dev/holmberg/data/test/g21d018.023\n",
      "19:07:13 ccalibration INFO   : Calibrating /Users/canis/dev/holmberg/data/test/g21d018.024\n",
      "19:07:13 ccalibration INFO   : Calibrating /Users/canis/dev/holmberg/data/test/g21d018.025\n",
      "19:07:13 ccalibration INFO   : Calibrating /Users/canis/dev/holmberg/data/test/g21d018.026\n",
      "19:07:13 ccalibration INFO   : Calibrating /Users/canis/dev/holmberg/data/test/g21d018.027\n",
      "19:07:14 ccalibration INFO   : Calibrating /Users/canis/dev/holmberg/data/test/g21d018.028\n",
      "19:07:14 ccalibration INFO   : Calibrating /Users/canis/dev/holmberg/data/test/g21d018.029\n",
      "19:07:14 ccalibration INFO   : Calibrating /Users/canis/dev/holmberg/data/test/g21d018.030\n",
      "19:07:14 ccalibration INFO   : Calibrating /Users/canis/dev/holmberg/data/test/g21d018.031\n",
      "19:07:14 ccalibration INFO   : Calibrating /Users/canis/dev/holmberg/data/test/g21d018.032\n",
      "19:07:15 ccalibration INFO   : Calibrating /Users/canis/dev/holmberg/data/test/g21d018.033\n",
      "19:07:15 ccalibration INFO   : Calibrating /Users/canis/dev/holmberg/data/test/g21d018.034\n",
      "19:07:15 ccalibration INFO   : Calibrating /Users/canis/dev/holmberg/data/test/g21d018.035\n",
      "19:07:15 ccalibration INFO   : Calibrating /Users/canis/dev/holmberg/data/test/g21d018.036\n",
      "19:07:16 ccalibration INFO   : Calibrating /Users/canis/dev/holmberg/data/test/g21d018.037\n",
      "19:07:16 ccalibration INFO   : Calibrating /Users/canis/dev/holmberg/data/test/g21d018.038\n",
      "19:07:16 ccalibration INFO   : Calibrating /Users/canis/dev/holmberg/data/test/g21d018.039\n",
      "19:07:16 ccalibration INFO   : Calibrating /Users/canis/dev/holmberg/data/test/g21d018.040\n",
      "19:07:16 ccalibration INFO   : Calibrating /Users/canis/dev/holmberg/data/test/g21d018.041\n",
      "19:07:17 ccalibration INFO   : Calibrating /Users/canis/dev/holmberg/data/test/g21d018.042\n",
      "19:07:17 ccalibration INFO   : Calibrating /Users/canis/dev/holmberg/data/test/g21d018.043\n",
      "19:07:17 ccalibration INFO   : Calibrating /Users/canis/dev/holmberg/data/test/g21d018.044\n",
      "19:07:17 ccalibration INFO   : Calibrating /Users/canis/dev/holmberg/data/test/g21d018.045\n",
      "19:07:18 ccalibration INFO   : Calibrating /Users/canis/dev/holmberg/data/test/g21d018.046\n",
      "19:07:18 ccalibration INFO   : Calibrating /Users/canis/dev/holmberg/data/test/g21d018.047\n",
      "19:07:18 ccalibration INFO   : Calibrating /Users/canis/dev/holmberg/data/test/g21d018.048\n",
      "19:07:19 ccalibration INFO   : Calibrating /Users/canis/dev/holmberg/data/test/g21d018.049\n",
      "19:07:19 ccalibration INFO   : Calibrating /Users/canis/dev/holmberg/data/test/g21d018.050\n",
      "19:07:19 ccalibration INFO   : Calibrating /Users/canis/dev/holmberg/data/test/g21d018.051\n",
      "19:07:20 ccalibration INFO   : Calibrating /Users/canis/dev/holmberg/data/test/g21d018.052\n",
      "19:07:20 ccalibration INFO   : Calibrating /Users/canis/dev/holmberg/data/test/g21d018.053\n",
      "19:07:20 ccalibration INFO   : Done calibrating /Users/canis/dev/holmberg/data/test/g21d018.053\n"
     ]
    }
   ],
   "source": [
    "from ccalibration import calibrate_night, calibrate_year\n",
    "# scopes = [13, 61]                    \n",
    "# years = [2017, 2018, 2019, 2020, 2021, 2022]\n",
    "\n",
    "# for scope in scopes:\n",
    "#     for year in years:\n",
    "calibrate_night(path='/Users/canis/dev/holmberg/data/test', astrometry=False, \n",
    "    anetcfg='/usr/local/Cellar/astrometry-net/cfg', format='fits')"
   ]
  },
  {
   "cell_type": "markdown",
   "metadata": {},
   "source": [
    "Seeing (fwhm) calculation"
   ]
  },
  {
   "cell_type": "code",
   "execution_count": null,
   "metadata": {},
   "outputs": [],
   "source": [
    "from cseeing import get_avg_fwhm_year, combine_seeings, filter_seeings, filter_seeings_camera\n",
    "scopes = {13: [2016, 2017, 2018, 2019, 2020, 2021, 2022], 61: [2019, 2020, 2021]}\n",
    "cameras13 = ['tek2k', 'nd12']\n",
    "cameras61 = ['Marana', 'acam']\n",
    "\n",
    "for scope in scopes:\n",
    "    for year in scopes[scope]:\n",
    "        get_avg_fwhm_year(scope, year, astrometry=True)\n",
    "        combine_seeings(scope, year)\n",
    "        filter_seeings(scope, year)\n",
    "filter_seeings_camera(13, cameras13)\n",
    "filter_seeings_camera(61, cameras61)"
   ]
  }
 ],
 "metadata": {
  "kernelspec": {
   "display_name": "Python 3.10.6 64-bit",
   "language": "python",
   "name": "python3"
  },
  "language_info": {
   "codemirror_mode": {
    "name": "ipython",
    "version": 3
   },
   "file_extension": ".py",
   "mimetype": "text/x-python",
   "name": "python",
   "nbconvert_exporter": "python",
   "pygments_lexer": "ipython3",
   "version": "3.10.8"
  },
  "orig_nbformat": 4,
  "vscode": {
   "interpreter": {
    "hash": "aee8b7b246df8f9039afb4144a1f6fd8d2ca17a180786b69acc140d282b71a49"
   }
  }
 },
 "nbformat": 4,
 "nbformat_minor": 2
}
