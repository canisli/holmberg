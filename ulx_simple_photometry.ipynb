{
 "cells": [
  {
   "cell_type": "markdown",
   "id": "fa32b860-d66d-4573-8c3f-d1feda112811",
   "metadata": {},
   "source": [
    "# Holmberg II X-1"
   ]
  },
  {
   "cell_type": "code",
   "execution_count": null,
   "id": "aecae4d0-1412-4017-ae78-f947641ce20c",
   "metadata": {
    "scrolled": true,
    "tags": []
   },
   "outputs": [],
   "source": [
    "import time\n",
    "import glob\n",
    "import importlib\n",
    "import tempfile\n",
    "import numpy as np\n",
    "import xarray as xr\n",
    "import astropy\n",
    "import astropy.io.fits as fits\n",
    "from astropy.table import Table\n",
    "from astropy.wcs import WCS\n",
    "import matplotlib.pyplot as plt\n",
    "\n",
    "from astro import astroutils\n",
    "from astro import mastrometry\n",
    "from astro import mimage\n",
    "from astro import mphot\n",
    "\n",
    "from utils import mutils\n",
    "from utils import mlogging \n",
    "\n",
    "from astro.astroutils import jd2UTCtimestamp, UTCtimestamp2jd\n",
    "\n",
    "from constants import dr_tek2k, plate_scales\n",
    "\n",
    "log = mlogging.getLogger('photometry')\n",
    "\n",
    "%matplotlib ipympl"
   ]
  },
  {
   "cell_type": "code",
   "execution_count": 3,
   "id": "2c13f32e",
   "metadata": {},
   "outputs": [],
   "source": [
    "data = r'/Users/canis/dev/holmberg/data/test/calibrated/g21d018.050.c.fits'\n",
    "hdu = fits.open(data)[1]\n",
    "image = hdu.data"
   ]
  },
  {
   "cell_type": "code",
   "execution_count": 5,
   "id": "0316060f",
   "metadata": {},
   "outputs": [
    {
     "name": "stdout",
     "output_type": "stream",
     "text": [
      " id  xcentroid ycentroid sharpness  ... sky  peak    flux       mag    \n",
      "---- --------- --------- ---------- ... --- ----- --------- -----------\n",
      "   1 1.5704267 1.5704267 0.24378076 ...   0 32768 3888.5189  -8.9744605\n",
      "   2 1.4295733 1.5743044 0.24378076 ...   0 32768 3888.5189  -8.9744605\n",
      "   3  1142.003 1.7700926 0.32877528 ...   0    24 1.7158099 -0.58617292\n",
      "   4 2108.5704 1.5704267 0.24378076 ...   0 32768 3888.5189  -8.9744605\n",
      "   5 2109.4296 1.5704267 0.24378076 ...   0 32768 3888.5189  -8.9744605\n",
      "   6 1199.9654 2.2054594 0.41186025 ...   0    97 7.5742017  -2.1983422\n",
      "   7 1425.6299 6.1299456 0.63502731 ...   0    81 7.5090734  -2.1889659\n",
      "   8 1905.9681 12.128973 0.69440072 ...   0   222 23.836698  -3.4431153\n",
      "   9 1209.6368 14.714499 0.49173585 ...   0    41 1.9315983 -0.71479203\n",
      "  10 1258.8487 14.724205 0.45644814 ...   0   197 17.999507  -3.1381515\n",
      " ...       ...       ...        ... ... ...   ...       ...         ...\n",
      "1680 578.56856  2013.498 0.43200553 ...   0    40 2.2544703 -0.88261131\n",
      "1681 705.71013 2019.8938 0.48059166 ...   0    30 1.1236324 -0.12656062\n",
      "1682 7.2903459  2020.861 0.82140744 ...   0  2157 222.87071  -5.8701325\n",
      "1683 930.57224 2030.9553 0.51477521 ...   0   203 18.020627  -3.1394248\n",
      "1684 1235.3881 2038.9551 0.49735898 ...   0   322 29.334685  -3.6684536\n",
      "1685 1.5704267 2045.4296 0.24378076 ...   0 32768 3888.5189  -8.9744605\n",
      "1686 1.4295733 2045.4296 0.24378076 ...   0 32768 3888.5189  -8.9744605\n",
      "1687 17.568153   2045.51 0.26085979 ...   0    22 2.5506708   -1.016636\n",
      "1688 1553.1666 2045.3915 0.28437613 ...   0    24 1.9158776  -0.7059194\n",
      "1689 2108.5704 2045.4296 0.24378076 ...   0 32768 3888.5189  -8.9744605\n",
      "1690 2109.4296 2045.4296 0.24378076 ...   0 32768 3888.5189  -8.9744605\n",
      "Length = 1690 rows\n"
     ]
    }
   ],
   "source": [
    "from photutils.detection import DAOStarFinder\n",
    "from astropy.stats import mad_std\n",
    "bkg_sigma = mad_std(image)  \n",
    "daofind = DAOStarFinder(fwhm=4., threshold=3. * bkg_sigma)  \n",
    "sources = daofind(image)  \n",
    "for col in sources.colnames:  \n",
    "    sources[col].info.format = '%.8g'  # for consistent table output\n",
    "print(sources)  "
   ]
  },
  {
   "cell_type": "code",
   "execution_count": 6,
   "id": "7bab79ae",
   "metadata": {},
   "outputs": [
    {
     "name": "stdout",
     "output_type": "stream",
     "text": [
      " id   xcenter   ycenter  aperture_sum\n",
      "        pix       pix                \n",
      "---- --------- --------- ------------\n",
      "   1 1.5704267 1.5704267     773909.8\n",
      "   2 1.4295733 1.5743044    774410.11\n",
      "   3  1142.003 1.7700926    897.81503\n",
      "   4 2108.5704 1.5704267    944097.38\n",
      "   5 2109.4296 1.5704267    944097.38\n",
      "   6 1199.9654 2.2054594    2129.1074\n",
      "   7 1425.6299 6.1299456    1326.8494\n",
      "   8 1905.9681 12.128973    1986.9173\n",
      "   9 1209.6368 14.714499     1366.238\n",
      "  10 1258.8487 14.724205    3720.2659\n",
      " ...       ...       ...          ...\n",
      "1681 705.71013 2019.8938    1172.1404\n",
      "1682 7.2903459  2020.861    23280.755\n",
      "1683 930.57224 2030.9553    4132.4965\n",
      "1684 1235.3881 2038.9551    6466.6133\n",
      "1685 1.5704267 2045.4296    773829.97\n",
      "1686 1.4295733 2045.4296    773419.41\n",
      "1687 17.568153   2045.51     693.9257\n",
      "1688 1553.1666 2045.3915    874.12664\n",
      "1689 2108.5704 2045.4296    944617.46\n",
      "1690 2109.4296 2045.4296    944097.38\n",
      "Length = 1690 rows\n"
     ]
    }
   ],
   "source": [
    "from photutils.aperture import aperture_photometry, CircularAperture\n",
    "positions = np.transpose((sources['xcentroid'], sources['ycentroid']))  \n",
    "apertures = CircularAperture(positions, r=4.)  \n",
    "phot_table = aperture_photometry(image, apertures)  \n",
    "for col in phot_table.colnames:  \n",
    "    phot_table[col].info.format = '%.8g'  # for consistent table output\n",
    "print(phot_table)  "
   ]
  },
  {
   "cell_type": "code",
   "execution_count": null,
   "id": "8bd53369",
   "metadata": {},
   "outputs": [],
   "source": [
    "plt.imshow(image, cmap='gray_r', origin='lower')\n",
    "apertures.plot(color='blue', lw=1.5, alpha=0.5)"
   ]
  },
  {
   "cell_type": "code",
   "execution_count": 2,
   "id": "62b3a9f1",
   "metadata": {
    "scrolled": true
   },
   "outputs": [
    {
     "name": "stdout",
     "output_type": "stream",
     "text": [
      "3.8 6.999999999999999 15.0\n",
      "6.08 11.2 24.000000000000004\n",
      "2.8085454545454547 5.173636363636363 11.086363636363636\n",
      "2.0596 3.7939999999999996 8.13\n"
     ]
    }
   ],
   "source": [
    "disk_radius = 3.8\n",
    "sky_annulus_inner = 7\n",
    "sky_annulus_outer = 15\n"
   ]
  }
 ],
 "metadata": {
  "kernelspec": {
   "display_name": "Python 3.10.6 64-bit",
   "language": "python",
   "name": "python3"
  },
  "language_info": {
   "codemirror_mode": {
    "name": "ipython",
    "version": 3
   },
   "file_extension": ".py",
   "mimetype": "text/x-python",
   "name": "python",
   "nbconvert_exporter": "python",
   "pygments_lexer": "ipython3",
   "version": "3.10.8"
  },
  "toc-autonumbering": true,
  "vscode": {
   "interpreter": {
    "hash": "aee8b7b246df8f9039afb4144a1f6fd8d2ca17a180786b69acc140d282b71a49"
   }
  },
  "widgets": {
   "application/vnd.jupyter.widget-state+json": {
    "state": {},
    "version_major": 2,
    "version_minor": 0
   }
  }
 },
 "nbformat": 4,
 "nbformat_minor": 5
}
